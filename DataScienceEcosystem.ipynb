{
 "cells": [
  {
   "cell_type": "markdown",
   "id": "d673769e",
   "metadata": {},
   "source": [
    "# Data Science Tools and Ecosystems"
   ]
  },
  {
   "cell_type": "markdown",
   "id": "7dfa55d4",
   "metadata": {},
   "source": [
    "## In this notebook, Data Science Tools and Ecosystems are summarized"
   ]
  },
  {
   "cell_type": "markdown",
   "id": "e7d6c65b",
   "metadata": {},
   "source": [
    "**Objective:**\n",
    "* Scala\n",
    "* C#\n",
    "* Java\n"
   ]
  },
  {
   "cell_type": "markdown",
   "id": "dbd3bbb2",
   "metadata": {},
   "source": [
    "### Some of the popular languages that Data Scientists use are:\n",
    "1. Python\n",
    "2. C++\n",
    "3. R"
   ]
  },
  {
   "cell_type": "markdown",
   "id": "e02ca872",
   "metadata": {},
   "source": [
    "### Some of the commonly used libraries by Data Scientists include:\n",
    "1. Mathplotlib\n",
    "2. ggplot2\n",
    "3. TensorFlow"
   ]
  },
  {
   "cell_type": "markdown",
   "id": "f28269d0",
   "metadata": {},
   "source": [
    "|Data Science Tools|\n",
    "|----------------- |\n",
    "|MySQL|\n",
    "|PostgresSQL|\n",
    "|MongoDB|"
   ]
  },
  {
   "cell_type": "markdown",
   "id": "e8626083",
   "metadata": {},
   "source": [
    "### Below are a few examples of evaluating arithmetic expression in Python."
   ]
  },
  {
   "cell_type": "code",
   "execution_count": 1,
   "id": "6fd450d6",
   "metadata": {
    "scrolled": true
   },
   "outputs": [
    {
     "data": {
      "text/plain": [
       "17"
      ]
     },
     "execution_count": 1,
     "metadata": {},
     "output_type": "execute_result"
    }
   ],
   "source": [
    "# This is a simple arithmetic expression to multiply then add integers.\n",
    "(3*4)+5"
   ]
  },
  {
   "cell_type": "code",
   "execution_count": 2,
   "id": "61ec9b96",
   "metadata": {},
   "outputs": [
    {
     "data": {
      "text/plain": [
       "3.3333333333333335"
      ]
     },
     "execution_count": 2,
     "metadata": {},
     "output_type": "execute_result"
    }
   ],
   "source": [
    "# This will convert 200 minutes to hours by dividing by 60\n",
    "200/60"
   ]
  },
  {
   "cell_type": "markdown",
   "id": "ecf69056",
   "metadata": {},
   "source": [
    "## Author: James"
   ]
  }
 ],
 "metadata": {
  "kernelspec": {
   "display_name": "Python 3 (ipykernel)",
   "language": "python",
   "name": "python3"
  },
  "language_info": {
   "codemirror_mode": {
    "name": "ipython",
    "version": 3
   },
   "file_extension": ".py",
   "mimetype": "text/x-python",
   "name": "python",
   "nbconvert_exporter": "python",
   "pygments_lexer": "ipython3",
   "version": "3.11.1"
  }
 },
 "nbformat": 4,
 "nbformat_minor": 5
}
